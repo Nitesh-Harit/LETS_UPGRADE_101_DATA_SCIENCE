{
 "cells": [
  {
   "cell_type": "code",
   "execution_count": 7,
   "metadata": {},
   "outputs": [],
   "source": [
    "\n",
    "#Questions 1:\n",
    "#Given the following jumbled word, OBANWRI guess the correct English word.\n",
    "#A. RANIBOW\n",
    "#B. RAINBOW\n",
    "#C. BOWRANI\n",
    "#D. ROBWANI\n",
    "\n",
    "#Answer = RAINBOW\n"
   ]
  },
  {
   "cell_type": "code",
   "execution_count": 9,
   "metadata": {},
   "outputs": [],
   "source": [
    "#Questions 2:\n",
    "#Write a program which prints “LETS UPGRADE”. (Please note that you have to\n",
    "#print in ALL CAPS as given)\n",
    "\n",
    "print(\"LETS UPGRADE\")"
   ]
  },
  {
   "cell_type": "code",
   "execution_count": 13,
   "metadata": {},
   "outputs": [
    {
     "name": "stdout",
     "output_type": "stream",
     "text": [
      "100\n",
      "100\n",
      "Neither\n"
     ]
    }
   ],
   "source": [
    "#Questions 3:\n",
    "#Write a program that takes cost price and selling price as input and displays whether the transaction is a\n",
    "#profit or a Loss or Neither.\n",
    "#INPUT FORMAT\n",
    "#The first line contains the cost price.\n",
    "#The second line contains the selling price.\n",
    "#OUTPUT FORMAT\n",
    "#Print \"Profit\" if the transaction is a profit or \"Loss\" if it is a loss. If it is neither\n",
    "#profit nor loss, print \"Neither\".\n",
    "\n",
    "cost_price = int(input())\n",
    "selling_price = int(input())\n",
    "\n",
    "if selling_price>cost_price:\n",
    "    print(\"Profit\")\n",
    "elif selling_price< cost_price:\n",
    "    print(\"Loss\")\n",
    "else:\n",
    "    print(\"Neither\")"
   ]
  },
  {
   "cell_type": "code",
   "execution_count": 16,
   "metadata": {},
   "outputs": [
    {
     "name": "stdout",
     "output_type": "stream",
     "text": [
      "35\n",
      "2800\n"
     ]
    }
   ],
   "source": [
    "#Questions 4:\n",
    "#Write a program that takes an amount in Euros as input. You need to find its equivalent in\n",
    "#Rupees and display it. Assume 1 Euro equals Rs. 80.\n",
    "#Please note that you are expected to stick to the given input and output\n",
    "#format as in sample test cases. Please don't add any extra lines such as\n",
    "#'Enter a number', etc.\n",
    "#Your program should take only one number as input and display the output\n",
    "\n",
    "\n",
    "Euro = int(input())\n",
    "Rupee = Euro*80\n",
    "print(Rupee)"
   ]
  },
  {
   "cell_type": "code",
   "execution_count": null,
   "metadata": {},
   "outputs": [],
   "source": []
  },
  {
   "cell_type": "code",
   "execution_count": null,
   "metadata": {},
   "outputs": [],
   "source": []
  },
  {
   "cell_type": "code",
   "execution_count": null,
   "metadata": {},
   "outputs": [],
   "source": []
  }
 ],
 "metadata": {
  "kernelspec": {
   "display_name": "Python 3",
   "language": "python",
   "name": "python3"
  },
  "language_info": {
   "codemirror_mode": {
    "name": "ipython",
    "version": 3
   },
   "file_extension": ".py",
   "mimetype": "text/x-python",
   "name": "python",
   "nbconvert_exporter": "python",
   "pygments_lexer": "ipython3",
   "version": "3.7.6"
  }
 },
 "nbformat": 4,
 "nbformat_minor": 4
}
